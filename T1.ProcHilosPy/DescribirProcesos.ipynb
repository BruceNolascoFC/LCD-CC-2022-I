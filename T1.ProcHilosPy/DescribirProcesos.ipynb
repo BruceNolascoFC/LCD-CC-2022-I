{
  "nbformat": 4,
  "nbformat_minor": 0,
  "metadata": {
    "colab": {
      "name": "DescribirProcesos.ipynb",
      "provenance": []
    },
    "kernelspec": {
      "name": "python3",
      "display_name": "Python 3"
    },
    "language_info": {
      "name": "python"
    }
  },
  "cells": [
    {
      "cell_type": "code",
      "metadata": {
        "id": "gS-PUZv6Da8h"
      },
      "source": [
        "import os\n",
        "import time\n",
        "import multiprocessing as mp\n",
        "from multiprocessing import Process"
      ],
      "execution_count": 15,
      "outputs": []
    },
    {
      "cell_type": "code",
      "metadata": {
        "colab": {
          "base_uri": "https://localhost:8080/"
        },
        "id": "Up3p-EVKDpav",
        "outputId": "29441d3b-596b-477f-8dc5-1ebe2961c529"
      },
      "source": [
        "mp.cpu_count()"
      ],
      "execution_count": 16,
      "outputs": [
        {
          "output_type": "execute_result",
          "data": {
            "text/plain": [
              "2"
            ]
          },
          "metadata": {},
          "execution_count": 16
        }
      ]
    },
    {
      "cell_type": "code",
      "metadata": {
        "colab": {
          "base_uri": "https://localhost:8080/"
        },
        "id": "K07Id4BcDpnF",
        "outputId": "7b354fc7-f4ad-43ef-b3d3-a236ddc4cc95"
      },
      "source": [
        "# identificar proceso hijo y padre\n",
        "\n",
        "def f():\n",
        "  print(\"Soy \",mp.current_process().name)\n",
        "  print(\"Padre \",os.getppid())\n",
        "  print(\"Yo \",os.getpid())\n",
        "  \n",
        "print(\"Soy principal\",mp.current_process().name)\n",
        "print(\"prin Padre \",os.getppid())\n",
        "print(\"Yo principal \",os.getpid())\n",
        "hijo = mp.Process(name=\"hijo\",target=f)\n",
        "hijo.start()\n",
        "hijo.join()\n"
      ],
      "execution_count": 17,
      "outputs": [
        {
          "output_type": "stream",
          "name": "stdout",
          "text": [
            "Soy principal MainProcess\n",
            "prin Padre  52\n",
            "Yo principal  63\n",
            "Soy  hijo\n",
            "Padre  63\n",
            "Yo  349\n"
          ]
        }
      ]
    },
    {
      "cell_type": "markdown",
      "metadata": {
        "id": "IoyrEQkZDrC0"
      },
      "source": [
        "Crear al menos 3 procesos hijos y describirlos"
      ]
    },
    {
      "cell_type": "code",
      "metadata": {
        "colab": {
          "base_uri": "https://localhost:8080/"
        },
        "id": "yav3T-vmDoRF",
        "outputId": "eeb4e787-44ab-491b-ea15-fe3bd9035c89"
      },
      "source": [
        "def describe(i=1,top =4,level=0):\n",
        "  \n",
        "  print(\"    \"*level,f\"[{i}] Soy \",mp.current_process().name)\n",
        "  if i<top:\n",
        "    print(\"    \"*level,f\"[{i}] Creando hijo: \")\n",
        "    h = mp.Process(name = f\"Hijo {i+1}\",target =describe,args=(i+1,top,level+1 ))\n",
        "    hh = mp.Process(name = f\"Hijo {i+2}\",target =describe,args=(i+2,top,level+1 ))\n",
        "    h.start()\n",
        "    hh.start()\n",
        "  print(\"    \"*level,f\"[{i}] Padre \",os.getppid())\n",
        "  print(\"    \"*level,f\"[{i}] Yo \",os.getpid())\n",
        "  if i<top:\n",
        "    h.join()\n",
        "    hh.join()\n",
        "\n",
        "hijo1 =mp.Process(name = \"Hijo 1\",target =describe)\n",
        "hijo1.start()\n",
        "hijo1.join()"
      ],
      "execution_count": 18,
      "outputs": [
        {
          "output_type": "stream",
          "name": "stdout",
          "text": [
            " [1] Soy  Hijo 1\n",
            " [1] Creando hijo: \n",
            " [1] Padre  63\n",
            "     [2] Soy  Hijo 2\n",
            "     [3] Soy  Hijo 3\n",
            "     [2] Creando hijo: \n",
            " [1] Yo  356\n",
            "     [3] Creando hijo: \n",
            "         [3] Soy  Hijo 3\n",
            "     [2] Padre  356\n",
            "     [2] Yo  361\n",
            "     [3] Padre  356\n",
            "         [4] Soy  Hijo 4\n",
            "         [5] Soy  Hijo 5\n",
            "         [5] Padre  362\n",
            "     [3] Yo  362\n",
            "         [5] Yo  378\n",
            "         [4] Padre  362\n",
            "         [3] Creando hijo: \n",
            "         [4] Soy  Hijo 4\n",
            "         [4] Yo  377\n",
            "         [4] Padre  361\n",
            "             [4] Soy  Hijo 4\n",
            "         [4] Yo  376\n",
            "             [4] Padre  375\n",
            "             [5] Soy  Hijo 5\n",
            "         [3] Padre  361\n",
            "             [4] Yo  405\n",
            "             [5] Padre  375\n",
            "         [3] Yo  375\n",
            "             [5] Yo  408\n"
          ]
        }
      ]
    },
    {
      "cell_type": "markdown",
      "metadata": {
        "id": "S-EzqpiVFxXM"
      },
      "source": [
        "Uso de mp.Queue"
      ]
    },
    {
      "cell_type": "code",
      "metadata": {
        "colab": {
          "base_uri": "https://localhost:8080/"
        },
        "id": "KdNvhzlbFyBN",
        "outputId": "bec8f2af-f094-43a5-973b-4b3dc279fc29"
      },
      "source": [
        "# poner cuadrados en q\n",
        "def worker(num, q):\n",
        "  \n",
        "  for i in range(len(num)):\n",
        "    print( num[i] * num[i])\n",
        "    q.put( num[i] * num[i])\n",
        "\n",
        "if __name__ == '__main__':\n",
        "  my_queue = mp.Queue()\n",
        "  p = mp.Process(target=worker, args = ([1, 2, 3], my_queue))\n",
        "  p.start()\n",
        "  p.join()\n",
        "\n",
        "print(my_queue.get())\n",
        "print(my_queue.get())\n",
        "print(my_queue.get())"
      ],
      "execution_count": 19,
      "outputs": [
        {
          "output_type": "stream",
          "name": "stdout",
          "text": [
            "1\n",
            "4\n",
            "9\n",
            "1\n",
            "4\n",
            "9\n"
          ]
        }
      ]
    }
  ]
}