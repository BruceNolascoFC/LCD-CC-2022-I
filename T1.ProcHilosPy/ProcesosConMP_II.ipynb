{
  "nbformat": 4,
  "nbformat_minor": 0,
  "metadata": {
    "colab": {
      "name": "ProcesosConMP II.ipynb",
      "provenance": [],
      "collapsed_sections": []
    },
    "kernelspec": {
      "name": "python3",
      "display_name": "Python 3"
    },
    "language_info": {
      "name": "python"
    }
  },
  "cells": [
    {
      "cell_type": "code",
      "metadata": {
        "id": "UK3tRhVPEDeA"
      },
      "source": [
        "import os\n",
        "import time\n",
        "import multiprocessing as mp\n",
        "from multiprocessing import Process\n",
        "\n"
      ],
      "execution_count": 7,
      "outputs": []
    },
    {
      "cell_type": "code",
      "metadata": {
        "colab": {
          "base_uri": "https://localhost:8080/"
        },
        "id": "dKgnMH2LCZTV",
        "outputId": "edc3ca90-199b-4cb1-c225-d7050ebe3b8d"
      },
      "source": [
        "\n",
        "nums_res = []\n",
        "\n",
        "def calc_cuad(numeros):\n",
        "    global nums_res\n",
        "    for i in range(len(numeros)):\n",
        "        print('cuadrado:', numeros[i]**2 )\n",
        "        nums_res.append(numeros[i]**2)\n",
        "\n",
        "    #print(\"Resultado del proceso:\", nums_res[:])\n",
        "\n",
        "\n",
        "nums = range(10)\n",
        "\n",
        "t = time.time()\n",
        "p1 = mp.Process(target=calc_cuad, args=(nums,))\n",
        "\n",
        "p1.start()\n",
        "p1.join()\n",
        "\n",
        "print(\"Tiempo de ejecución: \", time.time()-t)\n",
        "# no hay cambio en num res\n",
        "print(\"Resultado del proceso:\", nums_res[:])\n",
        "print(\"Finaliza ejecución\")"
      ],
      "execution_count": 8,
      "outputs": [
        {
          "output_type": "stream",
          "name": "stdout",
          "text": [
            "cuadrado: 0\n",
            "cuadrado: 1\n",
            "cuadrado: 4\n",
            "cuadrado: 9\n",
            "cuadrado: 16\n",
            "cuadrado: 25\n",
            "cuadrado: 36\n",
            "cuadrado: 49\n",
            "cuadrado: 64\n",
            "cuadrado: 81\n",
            "Tiempo de ejecución:  0.0689537525177002\n",
            "Resultado del proceso: []\n",
            "Finaliza ejecución\n"
          ]
        }
      ]
    },
    {
      "cell_type": "code",
      "metadata": {
        "colab": {
          "base_uri": "https://localhost:8080/"
        },
        "id": "PsYbjtaACSyc",
        "outputId": "780d44ac-37bb-4ea7-b9f1-d3fd604716d2"
      },
      "source": [
        "# versión con memoria compartida\n",
        "nums_res = mp.Array(\"i\",10)\n",
        "\n",
        "def calc_cuad(numeros):\n",
        "    nums_res\n",
        "    for i in range(len(numeros)):\n",
        "        print('cuadrado:', numeros[i]**2 )\n",
        "        nums_res[i] = numeros[i]**2\n",
        "\n",
        "    #print(\"Resultado del proceso:\", nums_res[:])\n",
        "\n",
        "\n",
        "nums = range(10)\n",
        "\n",
        "t = time.time()\n",
        "p1 = mp.Process(target=calc_cuad, args=(nums,))\n",
        "\n",
        "p1.start()\n",
        "p1.join()\n",
        "\n",
        "print(\"Tiempo de ejecución: \", time.time()-t)\n",
        "print(\"Resultado del proceso:\", nums_res[:])\n",
        "print(\"Finaliza ejecución\")"
      ],
      "execution_count": 9,
      "outputs": [
        {
          "output_type": "stream",
          "name": "stdout",
          "text": [
            "cuadrado: 0\n",
            "cuadrado: 1\n",
            "cuadrado: 4\n",
            "cuadrado: 9\n",
            "cuadrado: 16\n",
            "cuadrado: 25\n",
            "cuadrado: 36\n",
            "cuadrado: 49\n",
            "cuadrado: 64\n",
            "cuadrado: 81\n",
            "Tiempo de ejecución:  0.04600071907043457\n",
            "Resultado del proceso: [0, 1, 4, 9, 16, 25, 36, 49, 64, 81]\n",
            "Finaliza ejecución\n"
          ]
        }
      ]
    },
    {
      "cell_type": "code",
      "metadata": {
        "id": "sfhGSc3hfYA_"
      },
      "source": [
        ""
      ],
      "execution_count": 9,
      "outputs": []
    },
    {
      "cell_type": "code",
      "metadata": {
        "id": "2DlOMJB374C9"
      },
      "source": [
        ""
      ],
      "execution_count": 9,
      "outputs": []
    }
  ]
}